{
 "cells": [
  {
   "cell_type": "markdown",
   "id": "90b31519",
   "metadata": {},
   "source": [
    "#### Generate Word Vector using word2Vec library on IMDB Dataset."
   ]
  },
  {
   "cell_type": "code",
   "execution_count": 99,
   "id": "f547f6b5",
   "metadata": {},
   "outputs": [],
   "source": [
    "# pip install seaborn"
   ]
  },
  {
   "cell_type": "code",
   "execution_count": 100,
   "id": "9c7dd9e4",
   "metadata": {
    "_cell_guid": "b1076dfc-b9ad-4769-8c92-a6c4dae69d19",
    "_uuid": "8f2839f25d086af736a60e9eeb907d3b93b6e0e5",
    "execution": {
     "iopub.execute_input": "2023-01-17T06:58:39.568929Z",
     "iopub.status.busy": "2023-01-17T06:58:39.568322Z",
     "iopub.status.idle": "2023-01-17T06:58:39.600400Z",
     "shell.execute_reply": "2023-01-17T06:58:39.599032Z"
    },
    "papermill": {
     "duration": 0.05028,
     "end_time": "2023-01-17T06:58:39.603710",
     "exception": false,
     "start_time": "2023-01-17T06:58:39.553430",
     "status": "completed"
    },
    "tags": []
   },
   "outputs": [],
   "source": [
    "import nltk\n",
    "from nltk.corpus import stopwords\n",
    "from nltk.stem import PorterStemmer\n",
    "from nltk.stem import WordNetLemmatizer\n",
    "import matplotlib.pyplot as plt\n",
    "import seaborn as sns\n",
    "import numpy as np \n",
    "import pandas as pd \n"
   ]
  },
  {
   "cell_type": "markdown",
   "id": "e26eb3e8",
   "metadata": {},
   "source": [
    "##### Dataset import and review"
   ]
  },
  {
   "cell_type": "code",
   "execution_count": 101,
   "id": "060e75bd",
   "metadata": {
    "execution": {
     "iopub.execute_input": "2023-01-17T06:58:39.687332Z",
     "iopub.status.busy": "2023-01-17T06:58:39.686862Z",
     "iopub.status.idle": "2023-01-17T06:58:41.302989Z",
     "shell.execute_reply": "2023-01-17T06:58:41.301898Z"
    },
    "papermill": {
     "duration": 1.630215,
     "end_time": "2023-01-17T06:58:41.305994",
     "exception": false,
     "start_time": "2023-01-17T06:58:39.675779",
     "status": "completed"
    },
    "tags": []
   },
   "outputs": [],
   "source": [
    "data=pd.read_csv(\"../Dataset/IMDB Dataset.csv\")"
   ]
  },
  {
   "cell_type": "code",
   "execution_count": 102,
   "id": "a14b69d2",
   "metadata": {
    "execution": {
     "iopub.execute_input": "2023-01-17T06:58:41.328276Z",
     "iopub.status.busy": "2023-01-17T06:58:41.327842Z",
     "iopub.status.idle": "2023-01-17T06:58:41.349173Z",
     "shell.execute_reply": "2023-01-17T06:58:41.347875Z"
    },
    "papermill": {
     "duration": 0.035686,
     "end_time": "2023-01-17T06:58:41.351862",
     "exception": false,
     "start_time": "2023-01-17T06:58:41.316176",
     "status": "completed"
    },
    "tags": []
   },
   "outputs": [
    {
     "data": {
      "text/plain": [
       "(50000, 2)"
      ]
     },
     "execution_count": 102,
     "metadata": {},
     "output_type": "execute_result"
    }
   ],
   "source": [
    "data.shape"
   ]
  },
  {
   "cell_type": "code",
   "execution_count": 103,
   "id": "78fd2ab3",
   "metadata": {
    "execution": {
     "iopub.execute_input": "2023-01-17T06:58:43.369411Z",
     "iopub.status.busy": "2023-01-17T06:58:43.368990Z",
     "iopub.status.idle": "2023-01-17T06:58:43.378838Z",
     "shell.execute_reply": "2023-01-17T06:58:43.378012Z"
    },
    "papermill": {
     "duration": 0.024013,
     "end_time": "2023-01-17T06:58:43.380990",
     "exception": false,
     "start_time": "2023-01-17T06:58:43.356977",
     "status": "completed"
    },
    "tags": []
   },
   "outputs": [
    {
     "data": {
      "text/html": [
       "<div>\n",
       "<style scoped>\n",
       "    .dataframe tbody tr th:only-of-type {\n",
       "        vertical-align: middle;\n",
       "    }\n",
       "\n",
       "    .dataframe tbody tr th {\n",
       "        vertical-align: top;\n",
       "    }\n",
       "\n",
       "    .dataframe thead th {\n",
       "        text-align: right;\n",
       "    }\n",
       "</style>\n",
       "<table border=\"1\" class=\"dataframe\">\n",
       "  <thead>\n",
       "    <tr style=\"text-align: right;\">\n",
       "      <th></th>\n",
       "      <th>review</th>\n",
       "      <th>sentiment</th>\n",
       "    </tr>\n",
       "  </thead>\n",
       "  <tbody>\n",
       "    <tr>\n",
       "      <th>0</th>\n",
       "      <td>One of the other reviewers has mentioned that ...</td>\n",
       "      <td>positive</td>\n",
       "    </tr>\n",
       "  </tbody>\n",
       "</table>\n",
       "</div>"
      ],
      "text/plain": [
       "                                              review sentiment\n",
       "0  One of the other reviewers has mentioned that ...  positive"
      ]
     },
     "execution_count": 103,
     "metadata": {},
     "output_type": "execute_result"
    }
   ],
   "source": [
    "data.head(1)"
   ]
  },
  {
   "cell_type": "code",
   "execution_count": 104,
   "id": "7cacc9eb",
   "metadata": {
    "execution": {
     "iopub.execute_input": "2023-01-17T06:58:43.406256Z",
     "iopub.status.busy": "2023-01-17T06:58:43.403914Z",
     "iopub.status.idle": "2023-01-17T06:58:43.413415Z",
     "shell.execute_reply": "2023-01-17T06:58:43.412546Z"
    },
    "papermill": {
     "duration": 0.024045,
     "end_time": "2023-01-17T06:58:43.415698",
     "exception": false,
     "start_time": "2023-01-17T06:58:43.391653",
     "status": "completed"
    },
    "tags": []
   },
   "outputs": [],
   "source": [
    "x=data[\"review\"]\n",
    "y=data[\"sentiment\"]"
   ]
  },
  {
   "cell_type": "code",
   "execution_count": 105,
   "id": "0efb5503",
   "metadata": {
    "execution": {
     "iopub.execute_input": "2023-01-17T06:58:43.438976Z",
     "iopub.status.busy": "2023-01-17T06:58:43.437884Z",
     "iopub.status.idle": "2023-01-17T06:58:43.447649Z",
     "shell.execute_reply": "2023-01-17T06:58:43.446253Z"
    },
    "papermill": {
     "duration": 0.024164,
     "end_time": "2023-01-17T06:58:43.450143",
     "exception": false,
     "start_time": "2023-01-17T06:58:43.425979",
     "status": "completed"
    },
    "tags": []
   },
   "outputs": [
    {
     "data": {
      "text/plain": [
       "0        One of the other reviewers has mentioned that ...\n",
       "1        A wonderful little production. <br /><br />The...\n",
       "2        I thought this was a wonderful way to spend ti...\n",
       "3        Basically there's a family where a little boy ...\n",
       "4        Petter Mattei's \"Love in the Time of Money\" is...\n",
       "                               ...                        \n",
       "49995    I thought this movie did a down right good job...\n",
       "49996    Bad plot, bad dialogue, bad acting, idiotic di...\n",
       "49997    I am a Catholic taught in parochial elementary...\n",
       "49998    I'm going to have to disagree with the previou...\n",
       "49999    No one expects the Star Trek movies to be high...\n",
       "Name: review, Length: 50000, dtype: object"
      ]
     },
     "execution_count": 105,
     "metadata": {},
     "output_type": "execute_result"
    }
   ],
   "source": [
    "x"
   ]
  },
  {
   "cell_type": "code",
   "execution_count": 106,
   "id": "79239cf1",
   "metadata": {
    "execution": {
     "iopub.execute_input": "2023-01-17T06:58:43.473271Z",
     "iopub.status.busy": "2023-01-17T06:58:43.472834Z",
     "iopub.status.idle": "2023-01-17T06:58:43.482281Z",
     "shell.execute_reply": "2023-01-17T06:58:43.481295Z"
    },
    "papermill": {
     "duration": 0.023716,
     "end_time": "2023-01-17T06:58:43.484490",
     "exception": false,
     "start_time": "2023-01-17T06:58:43.460774",
     "status": "completed"
    },
    "tags": []
   },
   "outputs": [
    {
     "data": {
      "text/plain": [
       "0        positive\n",
       "1        positive\n",
       "2        positive\n",
       "3        negative\n",
       "4        positive\n",
       "           ...   \n",
       "49995    positive\n",
       "49996    negative\n",
       "49997    negative\n",
       "49998    negative\n",
       "49999    negative\n",
       "Name: sentiment, Length: 50000, dtype: object"
      ]
     },
     "execution_count": 106,
     "metadata": {},
     "output_type": "execute_result"
    }
   ],
   "source": [
    "y"
   ]
  },
  {
   "cell_type": "code",
   "execution_count": 107,
   "id": "0356ca59",
   "metadata": {
    "execution": {
     "iopub.execute_input": "2023-01-17T06:58:43.508221Z",
     "iopub.status.busy": "2023-01-17T06:58:43.506988Z",
     "iopub.status.idle": "2023-01-17T06:58:43.519884Z",
     "shell.execute_reply": "2023-01-17T06:58:43.519028Z"
    },
    "papermill": {
     "duration": 0.027147,
     "end_time": "2023-01-17T06:58:43.522248",
     "exception": false,
     "start_time": "2023-01-17T06:58:43.495101",
     "status": "completed"
    },
    "tags": []
   },
   "outputs": [
    {
     "data": {
      "text/plain": [
       "sentiment\n",
       "positive    25000\n",
       "negative    25000\n",
       "Name: count, dtype: int64"
      ]
     },
     "execution_count": 107,
     "metadata": {},
     "output_type": "execute_result"
    }
   ],
   "source": [
    "y.value_counts()"
   ]
  },
  {
   "cell_type": "markdown",
   "id": "5f371b54",
   "metadata": {},
   "source": [
    "#### Preprocessing"
   ]
  },
  {
   "cell_type": "code",
   "execution_count": 108,
   "id": "7b371b8d",
   "metadata": {
    "execution": {
     "iopub.execute_input": "2023-01-17T06:58:43.546509Z",
     "iopub.status.busy": "2023-01-17T06:58:43.545403Z",
     "iopub.status.idle": "2023-01-17T06:58:43.549926Z",
     "shell.execute_reply": "2023-01-17T06:58:43.549100Z"
    },
    "papermill": {
     "duration": 0.019264,
     "end_time": "2023-01-17T06:58:43.552049",
     "exception": false,
     "start_time": "2023-01-17T06:58:43.532785",
     "status": "completed"
    },
    "tags": []
   },
   "outputs": [
    {
     "data": {
      "text/plain": [
       "'walk'"
      ]
     },
     "execution_count": 108,
     "metadata": {},
     "output_type": "execute_result"
    }
   ],
   "source": [
    "# Lemmatization is the process of grouping together the inflected forms of a word so they can be analysed as a single item, identified by the word's lemma, or dictionary form.\n",
    "# Eg: The word \"walks\" has \"walk\" as its lemma. This link is useful for doing sentiment analysis.\n",
    "lemmatizer=WordNetLemmatizer()\n",
    "lemmatizer.lemmatize(\"walks\")"
   ]
  },
  {
   "cell_type": "code",
   "execution_count": 109,
   "id": "1eec3004",
   "metadata": {
    "execution": {
     "iopub.execute_input": "2023-01-17T06:58:43.576683Z",
     "iopub.status.busy": "2023-01-17T06:58:43.576276Z",
     "iopub.status.idle": "2023-01-17T06:58:43.582098Z",
     "shell.execute_reply": "2023-01-17T06:58:43.579927Z"
    },
    "papermill": {
     "duration": 0.021291,
     "end_time": "2023-01-17T06:58:43.585440",
     "exception": false,
     "start_time": "2023-01-17T06:58:43.564149",
     "status": "completed"
    },
    "tags": []
   },
   "outputs": [],
   "source": [
    "# for regular expression\n",
    "import re"
   ]
  },
  {
   "cell_type": "code",
   "execution_count": 110,
   "id": "bed87d66",
   "metadata": {
    "execution": {
     "iopub.execute_input": "2023-01-17T06:58:43.609739Z",
     "iopub.status.busy": "2023-01-17T06:58:43.609254Z",
     "iopub.status.idle": "2023-01-17T06:58:43.772436Z",
     "shell.execute_reply": "2023-01-17T06:58:43.770882Z"
    },
    "papermill": {
     "duration": 0.178492,
     "end_time": "2023-01-17T06:58:43.775046",
     "exception": false,
     "start_time": "2023-01-17T06:58:43.596554",
     "status": "completed"
    },
    "tags": []
   },
   "outputs": [
    {
     "name": "stderr",
     "output_type": "stream",
     "text": [
      "[nltk_data] Downloading package stopwords to\n",
      "[nltk_data]     /Users/vicky_gupta/nltk_data...\n",
      "[nltk_data]   Package stopwords is already up-to-date!\n",
      "[nltk_data] Downloading package wordnet to\n",
      "[nltk_data]     /Users/vicky_gupta/nltk_data...\n",
      "[nltk_data]   Package wordnet is already up-to-date!\n"
     ]
    }
   ],
   "source": [
    "# Downloads the data.\n",
    "import nltk\n",
    "nltk.download('stopwords')\n",
    "nltk.download('wordnet')\n",
    "\n",
    "# Using the stopwords.\n",
    "from nltk.corpus import stopwords\n",
    "\n",
    "# Initialize the stopwords\n",
    "stoplist = stopwords.words('english')"
   ]
  },
  {
   "cell_type": "code",
   "execution_count": 111,
   "id": "ce7daf8a",
   "metadata": {
    "execution": {
     "iopub.execute_input": "2023-01-17T06:58:43.799369Z",
     "iopub.status.busy": "2023-01-17T06:58:43.798980Z",
     "iopub.status.idle": "2023-01-17T06:58:43.805061Z",
     "shell.execute_reply": "2023-01-17T06:58:43.803794Z"
    },
    "papermill": {
     "duration": 0.021352,
     "end_time": "2023-01-17T06:58:43.807486",
     "exception": false,
     "start_time": "2023-01-17T06:58:43.786134",
     "status": "completed"
    },
    "tags": []
   },
   "outputs": [],
   "source": [
    "def preprocessing(x):\n",
    "    # Convert to lower case\n",
    "    x=x.lower() \n",
    "    # Remove special characters\n",
    "    x=re.sub(\"[^a-zA-Z]\",\" \",x) \n",
    "    # Split the sentence into words\n",
    "    x=x.split() \n",
    "    # Lemmatize the words and remove the stopwords\n",
    "    x=[lemmatizer.lemmatize(word) for word in x if word not in stoplist]\n",
    "    # Join the words\n",
    "    x=\" \".join(x)\n",
    "    return x"
   ]
  },
  {
   "cell_type": "code",
   "execution_count": 112,
   "id": "547f6c28",
   "metadata": {
    "execution": {
     "iopub.execute_input": "2023-01-17T06:58:43.831285Z",
     "iopub.status.busy": "2023-01-17T06:58:43.830748Z",
     "iopub.status.idle": "2023-01-17T06:58:45.775148Z",
     "shell.execute_reply": "2023-01-17T06:58:45.774003Z"
    },
    "papermill": {
     "duration": 1.95933,
     "end_time": "2023-01-17T06:58:45.777578",
     "exception": false,
     "start_time": "2023-01-17T06:58:43.818248",
     "status": "completed"
    },
    "tags": []
   },
   "outputs": [
    {
     "data": {
      "text/plain": [
       "'hello name vicky student jmi university try learn new thing everyday'"
      ]
     },
     "execution_count": 112,
     "metadata": {},
     "output_type": "execute_result"
    }
   ],
   "source": [
    "para=\"Hello my name is VICKY and I am a stuDent of JMI University. I tRy to learn new things everYday.\"\n",
    "preprocessing(para) "
   ]
  },
  {
   "cell_type": "code",
   "execution_count": 113,
   "id": "1579661c",
   "metadata": {
    "execution": {
     "iopub.execute_input": "2023-01-17T06:58:45.832674Z",
     "iopub.status.busy": "2023-01-17T06:58:45.832254Z",
     "iopub.status.idle": "2023-01-17T06:59:49.067513Z",
     "shell.execute_reply": "2023-01-17T06:59:49.066153Z"
    },
    "papermill": {
     "duration": 63.25037,
     "end_time": "2023-01-17T06:59:49.070636",
     "exception": false,
     "start_time": "2023-01-17T06:58:45.820266",
     "status": "completed"
    },
    "tags": []
   },
   "outputs": [],
   "source": [
    "x=x.apply(preprocessing)"
   ]
  },
  {
   "cell_type": "code",
   "execution_count": 114,
   "id": "a56d7ae9",
   "metadata": {
    "execution": {
     "iopub.execute_input": "2023-01-17T06:59:49.094695Z",
     "iopub.status.busy": "2023-01-17T06:59:49.094252Z",
     "iopub.status.idle": "2023-01-17T06:59:49.104093Z",
     "shell.execute_reply": "2023-01-17T06:59:49.102817Z"
    },
    "papermill": {
     "duration": 0.024769,
     "end_time": "2023-01-17T06:59:49.106784",
     "exception": false,
     "start_time": "2023-01-17T06:59:49.082015",
     "status": "completed"
    },
    "tags": []
   },
   "outputs": [
    {
     "data": {
      "text/plain": [
       "'one reviewer mentioned watching oz episode hooked right exactly happened br br first thing struck oz brutality unflinching scene violence set right word go trust show faint hearted timid show pull punch regard drug sex violence hardcore classic use word br br called oz nickname given oswald maximum security state penitentary focus mainly emerald city experimental section prison cell glass front face inwards privacy high agenda em city home many aryan muslim gangsta latino christian italian irish scuffle death stare dodgy dealing shady agreement never far away br br would say main appeal show due fact go show dare forget pretty picture painted mainstream audience forget charm forget romance oz mess around first episode ever saw struck nasty surreal say ready watched developed taste oz got accustomed high level graphic violence violence injustice crooked guard sold nickel inmate kill order get away well mannered middle class inmate turned prison bitch due lack street skill prison experience watching oz may become comfortable uncomfortable viewing thats get touch darker side'"
      ]
     },
     "execution_count": 114,
     "metadata": {},
     "output_type": "execute_result"
    }
   ],
   "source": [
    "x[0]"
   ]
  },
  {
   "cell_type": "code",
   "execution_count": 115,
   "id": "9fadd7dc",
   "metadata": {
    "execution": {
     "iopub.execute_input": "2023-01-17T06:59:49.131710Z",
     "iopub.status.busy": "2023-01-17T06:59:49.131277Z",
     "iopub.status.idle": "2023-01-17T06:59:49.139287Z",
     "shell.execute_reply": "2023-01-17T06:59:49.138035Z"
    },
    "papermill": {
     "duration": 0.023038,
     "end_time": "2023-01-17T06:59:49.141607",
     "exception": false,
     "start_time": "2023-01-17T06:59:49.118569",
     "status": "completed"
    },
    "tags": []
   },
   "outputs": [
    {
     "data": {
      "text/plain": [
       "\"One of the other reviewers has mentioned that after watching just 1 Oz episode you'll be hooked. They are right, as this is exactly what happened with me.<br /><br />The first thing that struck me about Oz was its brutality and unflinching scenes of violence, which set in right from the word GO. Trust me, this is not a show for the faint hearted or timid. This show pulls no punches with regards to drugs, sex or violence. Its is hardcore, in the classic use of the word.<br /><br />It is called OZ as that is the nickname given to the Oswald Maximum Security State Penitentary. It focuses mainly on Emerald City, an experimental section of the prison where all the cells have glass fronts and face inwards, so privacy is not high on the agenda. Em City is home to many..Aryans, Muslims, gangstas, Latinos, Christians, Italians, Irish and more....so scuffles, death stares, dodgy dealings and shady agreements are never far away.<br /><br />I would say the main appeal of the show is due to the fact that it goes where other shows wouldn't dare. Forget pretty pictures painted for mainstream audiences, forget charm, forget romance...OZ doesn't mess around. The first episode I ever saw struck me as so nasty it was surreal, I couldn't say I was ready for it, but as I watched more, I developed a taste for Oz, and got accustomed to the high levels of graphic violence. Not just violence, but injustice (crooked guards who'll be sold out for a nickel, inmates who'll kill on order and get away with it, well mannered, middle class inmates being turned into prison bitches due to their lack of street skills or prison experience) Watching Oz, you may become comfortable with what is uncomfortable viewing....thats if you can get in touch with your darker side.\""
      ]
     },
     "execution_count": 115,
     "metadata": {},
     "output_type": "execute_result"
    }
   ],
   "source": [
    "data[\"review\"][0]"
   ]
  },
  {
   "cell_type": "code",
   "execution_count": 116,
   "id": "8447fd0e",
   "metadata": {},
   "outputs": [],
   "source": [
    "def preprocessing1(x):\n",
    "    # Convert to lower case\n",
    "    x=x.lower() \n",
    "    # Remove special characters\n",
    "    x=re.sub(\"[^a-zA-Z]\",\" \",x) \n",
    "    # Split the sentence into words\n",
    "    x=x.split() \n",
    "    # Lemmatize the words and remove the stopwords\n",
    "    x=[lemmatizer.lemmatize(word) for word in x if word not in stoplist]\n",
    "    return x"
   ]
  },
  {
   "cell_type": "code",
   "execution_count": 117,
   "id": "4cebb88a",
   "metadata": {
    "execution": {
     "iopub.execute_input": "2023-01-17T06:59:49.200133Z",
     "iopub.status.busy": "2023-01-17T06:59:49.199722Z",
     "iopub.status.idle": "2023-01-17T06:59:49.207656Z",
     "shell.execute_reply": "2023-01-17T06:59:49.206424Z"
    },
    "papermill": {
     "duration": 0.023214,
     "end_time": "2023-01-17T06:59:49.209899",
     "exception": false,
     "start_time": "2023-01-17T06:59:49.186685",
     "status": "completed"
    },
    "tags": []
   },
   "outputs": [
    {
     "data": {
      "text/plain": [
       "['hello',\n",
       " 'name',\n",
       " 'vicky',\n",
       " 'student',\n",
       " 'jmi',\n",
       " 'university',\n",
       " 'try',\n",
       " 'learn',\n",
       " 'new',\n",
       " 'thing',\n",
       " 'everyday']"
      ]
     },
     "execution_count": 117,
     "metadata": {},
     "output_type": "execute_result"
    }
   ],
   "source": [
    "preprocessing1(para)"
   ]
  },
  {
   "cell_type": "code",
   "execution_count": 118,
   "id": "106fa361",
   "metadata": {
    "execution": {
     "iopub.execute_input": "2023-01-17T06:59:49.235102Z",
     "iopub.status.busy": "2023-01-17T06:59:49.234696Z",
     "iopub.status.idle": "2023-01-17T07:00:53.529610Z",
     "shell.execute_reply": "2023-01-17T07:00:53.528327Z"
    },
    "papermill": {
     "duration": 64.310799,
     "end_time": "2023-01-17T07:00:53.532377",
     "exception": false,
     "start_time": "2023-01-17T06:59:49.221578",
     "status": "completed"
    },
    "tags": []
   },
   "outputs": [],
   "source": [
    "data[\"new_review\"]=data[\"review\"].apply(preprocessing1)"
   ]
  },
  {
   "cell_type": "code",
   "execution_count": 119,
   "id": "2384c42e",
   "metadata": {
    "execution": {
     "iopub.execute_input": "2023-01-17T07:00:53.558002Z",
     "iopub.status.busy": "2023-01-17T07:00:53.557514Z",
     "iopub.status.idle": "2023-01-17T07:00:53.574380Z",
     "shell.execute_reply": "2023-01-17T07:00:53.573018Z"
    },
    "papermill": {
     "duration": 0.033052,
     "end_time": "2023-01-17T07:00:53.577056",
     "exception": false,
     "start_time": "2023-01-17T07:00:53.544004",
     "status": "completed"
    },
    "tags": []
   },
   "outputs": [
    {
     "data": {
      "text/html": [
       "<div>\n",
       "<style scoped>\n",
       "    .dataframe tbody tr th:only-of-type {\n",
       "        vertical-align: middle;\n",
       "    }\n",
       "\n",
       "    .dataframe tbody tr th {\n",
       "        vertical-align: top;\n",
       "    }\n",
       "\n",
       "    .dataframe thead th {\n",
       "        text-align: right;\n",
       "    }\n",
       "</style>\n",
       "<table border=\"1\" class=\"dataframe\">\n",
       "  <thead>\n",
       "    <tr style=\"text-align: right;\">\n",
       "      <th></th>\n",
       "      <th>review</th>\n",
       "      <th>sentiment</th>\n",
       "      <th>new_review</th>\n",
       "    </tr>\n",
       "  </thead>\n",
       "  <tbody>\n",
       "    <tr>\n",
       "      <th>0</th>\n",
       "      <td>One of the other reviewers has mentioned that ...</td>\n",
       "      <td>positive</td>\n",
       "      <td>[one, reviewer, mentioned, watching, oz, episo...</td>\n",
       "    </tr>\n",
       "    <tr>\n",
       "      <th>1</th>\n",
       "      <td>A wonderful little production. &lt;br /&gt;&lt;br /&gt;The...</td>\n",
       "      <td>positive</td>\n",
       "      <td>[wonderful, little, production, br, br, filmin...</td>\n",
       "    </tr>\n",
       "    <tr>\n",
       "      <th>2</th>\n",
       "      <td>I thought this was a wonderful way to spend ti...</td>\n",
       "      <td>positive</td>\n",
       "      <td>[thought, wonderful, way, spend, time, hot, su...</td>\n",
       "    </tr>\n",
       "    <tr>\n",
       "      <th>3</th>\n",
       "      <td>Basically there's a family where a little boy ...</td>\n",
       "      <td>negative</td>\n",
       "      <td>[basically, family, little, boy, jake, think, ...</td>\n",
       "    </tr>\n",
       "    <tr>\n",
       "      <th>4</th>\n",
       "      <td>Petter Mattei's \"Love in the Time of Money\" is...</td>\n",
       "      <td>positive</td>\n",
       "      <td>[petter, mattei, love, time, money, visually, ...</td>\n",
       "    </tr>\n",
       "  </tbody>\n",
       "</table>\n",
       "</div>"
      ],
      "text/plain": [
       "                                              review sentiment  \\\n",
       "0  One of the other reviewers has mentioned that ...  positive   \n",
       "1  A wonderful little production. <br /><br />The...  positive   \n",
       "2  I thought this was a wonderful way to spend ti...  positive   \n",
       "3  Basically there's a family where a little boy ...  negative   \n",
       "4  Petter Mattei's \"Love in the Time of Money\" is...  positive   \n",
       "\n",
       "                                          new_review  \n",
       "0  [one, reviewer, mentioned, watching, oz, episo...  \n",
       "1  [wonderful, little, production, br, br, filmin...  \n",
       "2  [thought, wonderful, way, spend, time, hot, su...  \n",
       "3  [basically, family, little, boy, jake, think, ...  \n",
       "4  [petter, mattei, love, time, money, visually, ...  "
      ]
     },
     "execution_count": 119,
     "metadata": {},
     "output_type": "execute_result"
    }
   ],
   "source": [
    "data.head()"
   ]
  },
  {
   "cell_type": "code",
   "execution_count": 120,
   "id": "5d17d2da",
   "metadata": {
    "execution": {
     "iopub.execute_input": "2023-01-17T07:00:53.602619Z",
     "iopub.status.busy": "2023-01-17T07:00:53.602215Z",
     "iopub.status.idle": "2023-01-17T07:00:53.608684Z",
     "shell.execute_reply": "2023-01-17T07:00:53.607404Z"
    },
    "papermill": {
     "duration": 0.022696,
     "end_time": "2023-01-17T07:00:53.611602",
     "exception": false,
     "start_time": "2023-01-17T07:00:53.588906",
     "status": "completed"
    },
    "tags": []
   },
   "outputs": [
    {
     "name": "stdout",
     "output_type": "stream",
     "text": [
      "One of the other reviewers has mentioned that after watching just 1 Oz episode you'll be hooked. They are right, as this is exactly what happened with me.<br /><br />The first thing that struck me about Oz was its brutality and unflinching scenes of violence, which set in right from the word GO. Trust me, this is not a show for the faint hearted or timid. This show pulls no punches with regards to drugs, sex or violence. Its is hardcore, in the classic use of the word.<br /><br />It is called OZ as that is the nickname given to the Oswald Maximum Security State Penitentary. It focuses mainly on Emerald City, an experimental section of the prison where all the cells have glass fronts and face inwards, so privacy is not high on the agenda. Em City is home to many..Aryans, Muslims, gangstas, Latinos, Christians, Italians, Irish and more....so scuffles, death stares, dodgy dealings and shady agreements are never far away.<br /><br />I would say the main appeal of the show is due to the fact that it goes where other shows wouldn't dare. Forget pretty pictures painted for mainstream audiences, forget charm, forget romance...OZ doesn't mess around. The first episode I ever saw struck me as so nasty it was surreal, I couldn't say I was ready for it, but as I watched more, I developed a taste for Oz, and got accustomed to the high levels of graphic violence. Not just violence, but injustice (crooked guards who'll be sold out for a nickel, inmates who'll kill on order and get away with it, well mannered, middle class inmates being turned into prison bitches due to their lack of street skills or prison experience) Watching Oz, you may become comfortable with what is uncomfortable viewing....thats if you can get in touch with your darker side.\n",
      "['one', 'reviewer', 'mentioned', 'watching', 'oz', 'episode', 'hooked', 'right', 'exactly', 'happened', 'br', 'br', 'first', 'thing', 'struck', 'oz', 'brutality', 'unflinching', 'scene', 'violence', 'set', 'right', 'word', 'go', 'trust', 'show', 'faint', 'hearted', 'timid', 'show', 'pull', 'punch', 'regard', 'drug', 'sex', 'violence', 'hardcore', 'classic', 'use', 'word', 'br', 'br', 'called', 'oz', 'nickname', 'given', 'oswald', 'maximum', 'security', 'state', 'penitentary', 'focus', 'mainly', 'emerald', 'city', 'experimental', 'section', 'prison', 'cell', 'glass', 'front', 'face', 'inwards', 'privacy', 'high', 'agenda', 'em', 'city', 'home', 'many', 'aryan', 'muslim', 'gangsta', 'latino', 'christian', 'italian', 'irish', 'scuffle', 'death', 'stare', 'dodgy', 'dealing', 'shady', 'agreement', 'never', 'far', 'away', 'br', 'br', 'would', 'say', 'main', 'appeal', 'show', 'due', 'fact', 'go', 'show', 'dare', 'forget', 'pretty', 'picture', 'painted', 'mainstream', 'audience', 'forget', 'charm', 'forget', 'romance', 'oz', 'mess', 'around', 'first', 'episode', 'ever', 'saw', 'struck', 'nasty', 'surreal', 'say', 'ready', 'watched', 'developed', 'taste', 'oz', 'got', 'accustomed', 'high', 'level', 'graphic', 'violence', 'violence', 'injustice', 'crooked', 'guard', 'sold', 'nickel', 'inmate', 'kill', 'order', 'get', 'away', 'well', 'mannered', 'middle', 'class', 'inmate', 'turned', 'prison', 'bitch', 'due', 'lack', 'street', 'skill', 'prison', 'experience', 'watching', 'oz', 'may', 'become', 'comfortable', 'uncomfortable', 'viewing', 'thats', 'get', 'touch', 'darker', 'side']\n"
     ]
    }
   ],
   "source": [
    "print(data[\"review\"][0])\n",
    "print(data[\"new_review\"][0])"
   ]
  },
  {
   "cell_type": "code",
   "execution_count": 121,
   "id": "6b74a29a",
   "metadata": {
    "execution": {
     "iopub.execute_input": "2023-01-17T07:00:53.637417Z",
     "iopub.status.busy": "2023-01-17T07:00:53.637025Z",
     "iopub.status.idle": "2023-01-17T07:00:53.681985Z",
     "shell.execute_reply": "2023-01-17T07:00:53.680197Z"
    },
    "papermill": {
     "duration": 0.062168,
     "end_time": "2023-01-17T07:00:53.685809",
     "exception": false,
     "start_time": "2023-01-17T07:00:53.623641",
     "status": "completed"
    },
    "tags": []
   },
   "outputs": [
    {
     "name": "stdout",
     "output_type": "stream",
     "text": [
      "       positive\n",
      "0          True\n",
      "1          True\n",
      "2          True\n",
      "3         False\n",
      "4          True\n",
      "...         ...\n",
      "49995      True\n",
      "49996     False\n",
      "49997     False\n",
      "49998     False\n",
      "49999     False\n",
      "\n",
      "[50000 rows x 1 columns]\n",
      "positive\n",
      "False       25000\n",
      "True        25000\n",
      "Name: count, dtype: int64\n"
     ]
    }
   ],
   "source": [
    "y=pd.get_dummies(y,drop_first=True)\n",
    "print(y)\n",
    "print(y.value_counts())"
   ]
  },
  {
   "cell_type": "code",
   "execution_count": 122,
   "id": "d073df35",
   "metadata": {
    "execution": {
     "iopub.execute_input": "2023-01-17T07:00:53.713924Z",
     "iopub.status.busy": "2023-01-17T07:00:53.713459Z",
     "iopub.status.idle": "2023-01-17T07:00:53.718897Z",
     "shell.execute_reply": "2023-01-17T07:00:53.717391Z"
    },
    "papermill": {
     "duration": 0.023012,
     "end_time": "2023-01-17T07:00:53.721433",
     "exception": false,
     "start_time": "2023-01-17T07:00:53.698421",
     "status": "completed"
    },
    "tags": []
   },
   "outputs": [],
   "source": [
    "from sklearn.model_selection import train_test_split"
   ]
  },
  {
   "cell_type": "code",
   "execution_count": 123,
   "id": "50123d5c",
   "metadata": {
    "execution": {
     "iopub.execute_input": "2023-01-17T07:00:53.746535Z",
     "iopub.status.busy": "2023-01-17T07:00:53.746125Z",
     "iopub.status.idle": "2023-01-17T07:00:53.762104Z",
     "shell.execute_reply": "2023-01-17T07:00:53.761013Z"
    },
    "papermill": {
     "duration": 0.031668,
     "end_time": "2023-01-17T07:00:53.764866",
     "exception": false,
     "start_time": "2023-01-17T07:00:53.733198",
     "status": "completed"
    },
    "tags": []
   },
   "outputs": [],
   "source": [
    "x_train, x_test, y_train, y_test = train_test_split(x, y, \n",
    "                                                    test_size=0.2, \n",
    "                                                    random_state=0)"
   ]
  },
  {
   "cell_type": "code",
   "execution_count": 124,
   "id": "3185544d",
   "metadata": {
    "execution": {
     "iopub.execute_input": "2023-01-17T07:00:53.792275Z",
     "iopub.status.busy": "2023-01-17T07:00:53.791114Z",
     "iopub.status.idle": "2023-01-17T07:00:53.798838Z",
     "shell.execute_reply": "2023-01-17T07:00:53.797035Z"
    },
    "papermill": {
     "duration": 0.023521,
     "end_time": "2023-01-17T07:00:53.801566",
     "exception": false,
     "start_time": "2023-01-17T07:00:53.778045",
     "status": "completed"
    },
    "tags": []
   },
   "outputs": [
    {
     "name": "stdout",
     "output_type": "stream",
     "text": [
      "(40000,)\n",
      "(10000,)\n",
      "(40000, 1)\n",
      "(10000, 1)\n"
     ]
    }
   ],
   "source": [
    "print(x_train.shape)\n",
    "print(x_test.shape)\n",
    "print(y_train.shape)\n",
    "print(y_test.shape)"
   ]
  },
  {
   "cell_type": "code",
   "execution_count": 125,
   "id": "8c1a6651",
   "metadata": {
    "execution": {
     "iopub.execute_input": "2023-01-17T07:00:53.828212Z",
     "iopub.status.busy": "2023-01-17T07:00:53.827486Z",
     "iopub.status.idle": "2023-01-17T07:00:53.836047Z",
     "shell.execute_reply": "2023-01-17T07:00:53.834818Z"
    },
    "papermill": {
     "duration": 0.025146,
     "end_time": "2023-01-17T07:00:53.838505",
     "exception": false,
     "start_time": "2023-01-17T07:00:53.813359",
     "status": "completed"
    },
    "tags": []
   },
   "outputs": [
    {
     "data": {
      "text/plain": [
       "'one reviewer mentioned watching oz episode hooked right exactly happened br br first thing struck oz brutality unflinching scene violence set right word go trust show faint hearted timid show pull punch regard drug sex violence hardcore classic use word br br called oz nickname given oswald maximum security state penitentary focus mainly emerald city experimental section prison cell glass front face inwards privacy high agenda em city home many aryan muslim gangsta latino christian italian irish scuffle death stare dodgy dealing shady agreement never far away br br would say main appeal show due fact go show dare forget pretty picture painted mainstream audience forget charm forget romance oz mess around first episode ever saw struck nasty surreal say ready watched developed taste oz got accustomed high level graphic violence violence injustice crooked guard sold nickel inmate kill order get away well mannered middle class inmate turned prison bitch due lack street skill prison experience watching oz may become comfortable uncomfortable viewing thats get touch darker side'"
      ]
     },
     "execution_count": 125,
     "metadata": {},
     "output_type": "execute_result"
    }
   ],
   "source": [
    "x_train[0]"
   ]
  },
  {
   "cell_type": "code",
   "execution_count": 126,
   "id": "dee05aa6",
   "metadata": {
    "execution": {
     "iopub.execute_input": "2023-01-17T07:00:53.864711Z",
     "iopub.status.busy": "2023-01-17T07:00:53.863857Z",
     "iopub.status.idle": "2023-01-17T07:01:15.349501Z",
     "shell.execute_reply": "2023-01-17T07:01:15.348304Z"
    },
    "papermill": {
     "duration": 21.50243,
     "end_time": "2023-01-17T07:01:15.352755",
     "exception": false,
     "start_time": "2023-01-17T07:00:53.850325",
     "status": "completed"
    },
    "tags": []
   },
   "outputs": [],
   "source": [
    "corpus=[]\n",
    "for i in x_train:\n",
    "    word=nltk.word_tokenize(i)\n",
    "    corpus.append(word)"
   ]
  },
  {
   "cell_type": "code",
   "execution_count": 127,
   "id": "e6911ccb",
   "metadata": {
    "execution": {
     "iopub.execute_input": "2023-01-17T07:01:15.378716Z",
     "iopub.status.busy": "2023-01-17T07:01:15.378302Z",
     "iopub.status.idle": "2023-01-17T07:01:15.385378Z",
     "shell.execute_reply": "2023-01-17T07:01:15.384307Z"
    },
    "papermill": {
     "duration": 0.022883,
     "end_time": "2023-01-17T07:01:15.387651",
     "exception": false,
     "start_time": "2023-01-17T07:01:15.364768",
     "status": "completed"
    },
    "tags": []
   },
   "outputs": [
    {
     "data": {
      "text/plain": [
       "['redeeming',\n",
       " 'quality',\n",
       " 'movie',\n",
       " 'otherwise',\n",
       " 'insult',\n",
       " 'viewer',\n",
       " 'intelligence',\n",
       " 'losing',\n",
       " 'track',\n",
       " 'time',\n",
       " 'plot',\n",
       " 'reason',\n",
       " 'produced',\n",
       " 'br',\n",
       " 'br',\n",
       " 'plus',\n",
       " 'guy',\n",
       " 'glass',\n",
       " 'ever',\n",
       " 'got',\n",
       " 'gig',\n",
       " 'hollywood',\n",
       " 'beyond']"
      ]
     },
     "execution_count": 127,
     "metadata": {},
     "output_type": "execute_result"
    }
   ],
   "source": [
    "corpus[0]"
   ]
  },
  {
   "cell_type": "code",
   "execution_count": 128,
   "id": "37569852",
   "metadata": {
    "execution": {
     "iopub.execute_input": "2023-01-17T07:01:15.414872Z",
     "iopub.status.busy": "2023-01-17T07:01:15.413867Z",
     "iopub.status.idle": "2023-01-17T07:01:15.422079Z",
     "shell.execute_reply": "2023-01-17T07:01:15.420834Z"
    },
    "papermill": {
     "duration": 0.024524,
     "end_time": "2023-01-17T07:01:15.424922",
     "exception": false,
     "start_time": "2023-01-17T07:01:15.400398",
     "status": "completed"
    },
    "tags": []
   },
   "outputs": [
    {
     "data": {
      "text/plain": [
       "'one reviewer mentioned watching oz episode hooked right exactly happened br br first thing struck oz brutality unflinching scene violence set right word go trust show faint hearted timid show pull punch regard drug sex violence hardcore classic use word br br called oz nickname given oswald maximum security state penitentary focus mainly emerald city experimental section prison cell glass front face inwards privacy high agenda em city home many aryan muslim gangsta latino christian italian irish scuffle death stare dodgy dealing shady agreement never far away br br would say main appeal show due fact go show dare forget pretty picture painted mainstream audience forget charm forget romance oz mess around first episode ever saw struck nasty surreal say ready watched developed taste oz got accustomed high level graphic violence violence injustice crooked guard sold nickel inmate kill order get away well mannered middle class inmate turned prison bitch due lack street skill prison experience watching oz may become comfortable uncomfortable viewing thats get touch darker side'"
      ]
     },
     "execution_count": 128,
     "metadata": {},
     "output_type": "execute_result"
    }
   ],
   "source": [
    "x_train[0]"
   ]
  },
  {
   "cell_type": "code",
   "execution_count": 129,
   "id": "4f21483a",
   "metadata": {},
   "outputs": [],
   "source": [
    "# pip install gensim"
   ]
  },
  {
   "cell_type": "code",
   "execution_count": 130,
   "id": "2c889aa9",
   "metadata": {
    "execution": {
     "iopub.execute_input": "2023-01-17T07:01:15.453978Z",
     "iopub.status.busy": "2023-01-17T07:01:15.453117Z",
     "iopub.status.idle": "2023-01-17T07:01:15.770016Z",
     "shell.execute_reply": "2023-01-17T07:01:15.768827Z"
    },
    "papermill": {
     "duration": 0.335241,
     "end_time": "2023-01-17T07:01:15.772777",
     "exception": false,
     "start_time": "2023-01-17T07:01:15.437536",
     "status": "completed"
    },
    "tags": []
   },
   "outputs": [],
   "source": [
    "import gensim"
   ]
  },
  {
   "cell_type": "code",
   "execution_count": 141,
   "id": "679f55b7",
   "metadata": {
    "execution": {
     "iopub.execute_input": "2023-01-17T07:01:15.800669Z",
     "iopub.status.busy": "2023-01-17T07:01:15.799894Z",
     "iopub.status.idle": "2023-01-17T07:01:46.359060Z",
     "shell.execute_reply": "2023-01-17T07:01:46.357734Z"
    },
    "papermill": {
     "duration": 30.576681,
     "end_time": "2023-01-17T07:01:46.361904",
     "exception": false,
     "start_time": "2023-01-17T07:01:15.785223",
     "status": "completed"
    },
    "tags": []
   },
   "outputs": [],
   "source": [
    "vector_size=32\n",
    "window=5\n",
    "model= gensim.models.Word2Vec(corpus,vector_size=vector_size,window=window,min_count=1)\n",
    "X_vocb= list(model.wv.key_to_index)\n"
   ]
  },
  {
   "cell_type": "code",
   "execution_count": 142,
   "id": "79c3381f",
   "metadata": {
    "execution": {
     "iopub.execute_input": "2023-01-17T07:01:46.390142Z",
     "iopub.status.busy": "2023-01-17T07:01:46.389718Z",
     "iopub.status.idle": "2023-01-17T07:01:46.412679Z",
     "shell.execute_reply": "2023-01-17T07:01:46.411510Z"
    },
    "papermill": {
     "duration": 0.041578,
     "end_time": "2023-01-17T07:01:46.416733",
     "exception": false,
     "start_time": "2023-01-17T07:01:46.375155",
     "status": "completed"
    },
    "tags": []
   },
   "outputs": [
    {
     "data": {
      "text/plain": [
       "[('cigarette', 0.8668749928474426),\n",
       " ('coat', 0.8547989130020142),\n",
       " ('ceiling', 0.8445426225662231),\n",
       " ('elevator', 0.8431884050369263),\n",
       " ('window', 0.8418573141098022),\n",
       " ('orange', 0.8354282975196838),\n",
       " ('tree', 0.8338780403137207),\n",
       " ('kitchen', 0.8326958417892456),\n",
       " ('pipe', 0.8295790553092957),\n",
       " ('wall', 0.825562596321106)]"
      ]
     },
     "execution_count": 142,
     "metadata": {},
     "output_type": "execute_result"
    }
   ],
   "source": [
    "model.wv.similar_by_word(\"glass\")"
   ]
  },
  {
   "cell_type": "code",
   "execution_count": 143,
   "id": "c61f703d",
   "metadata": {
    "execution": {
     "iopub.execute_input": "2023-01-17T07:01:46.483348Z",
     "iopub.status.busy": "2023-01-17T07:01:46.482565Z",
     "iopub.status.idle": "2023-01-17T07:01:46.492168Z",
     "shell.execute_reply": "2023-01-17T07:01:46.490993Z"
    },
    "papermill": {
     "duration": 0.046842,
     "end_time": "2023-01-17T07:01:46.496203",
     "exception": false,
     "start_time": "2023-01-17T07:01:46.449361",
     "status": "completed"
    },
    "tags": []
   },
   "outputs": [
    {
     "data": {
      "text/plain": [
       "81730"
      ]
     },
     "execution_count": 143,
     "metadata": {},
     "output_type": "execute_result"
    }
   ],
   "source": [
    "len(X_vocb)"
   ]
  },
  {
   "cell_type": "code",
   "execution_count": 144,
   "id": "21b0ffb3",
   "metadata": {
    "execution": {
     "iopub.execute_input": "2023-01-17T07:01:46.540420Z",
     "iopub.status.busy": "2023-01-17T07:01:46.539999Z",
     "iopub.status.idle": "2023-01-17T07:01:46.553288Z",
     "shell.execute_reply": "2023-01-17T07:01:46.551970Z"
    },
    "papermill": {
     "duration": 0.030806,
     "end_time": "2023-01-17T07:01:46.557293",
     "exception": false,
     "start_time": "2023-01-17T07:01:46.526487",
     "status": "completed"
    },
    "tags": []
   },
   "outputs": [
    {
     "data": {
      "text/plain": [
       "[('probably', 0.7339714765548706),\n",
       " ('unfunniness', 0.7267217040061951),\n",
       " ('movie', 0.7052503228187561),\n",
       " ('least', 0.7006261944770813),\n",
       " ('many', 0.6970797181129456),\n",
       " ('another', 0.6661038994789124),\n",
       " ('easily', 0.6660470366477966),\n",
       " ('definitely', 0.6615713238716125),\n",
       " ('think', 0.6526203751564026),\n",
       " ('twice', 0.6495547890663147)]"
      ]
     },
     "execution_count": 144,
     "metadata": {},
     "output_type": "execute_result"
    }
   ],
   "source": [
    "model.wv.similar_by_word(\"one\")"
   ]
  },
  {
   "cell_type": "code",
   "execution_count": 145,
   "id": "2bba5605",
   "metadata": {
    "execution": {
     "iopub.execute_input": "2023-01-17T07:01:46.624975Z",
     "iopub.status.busy": "2023-01-17T07:01:46.624127Z",
     "iopub.status.idle": "2023-01-17T07:02:25.187150Z",
     "shell.execute_reply": "2023-01-17T07:02:25.185835Z"
    },
    "papermill": {
     "duration": 38.600153,
     "end_time": "2023-01-17T07:02:25.189889",
     "exception": false,
     "start_time": "2023-01-17T07:01:46.589736",
     "status": "completed"
    },
    "tags": []
   },
   "outputs": [],
   "source": [
    "model1= gensim.models.Word2Vec(data[\"new_review\"])\n",
    "X_vocb1= list(model1.wv.key_to_index)"
   ]
  },
  {
   "cell_type": "code",
   "execution_count": 146,
   "id": "6ececc51",
   "metadata": {
    "execution": {
     "iopub.execute_input": "2023-01-17T07:02:25.220143Z",
     "iopub.status.busy": "2023-01-17T07:02:25.218846Z",
     "iopub.status.idle": "2023-01-17T07:02:25.243688Z",
     "shell.execute_reply": "2023-01-17T07:02:25.242000Z"
    },
    "papermill": {
     "duration": 0.044788,
     "end_time": "2023-01-17T07:02:25.248288",
     "exception": false,
     "start_time": "2023-01-17T07:02:25.203500",
     "status": "completed"
    },
    "tags": []
   },
   "outputs": [
    {
     "data": {
      "text/plain": [
       "[('probably', 0.5437185168266296),\n",
       " ('definitely', 0.47823336720466614),\n",
       " ('movie', 0.477005273103714),\n",
       " ('single', 0.4579446017742157),\n",
       " ('three', 0.45622530579566956),\n",
       " ('twice', 0.43119484186172485),\n",
       " ('possibly', 0.43035688996315),\n",
       " ('think', 0.4232206642627716),\n",
       " ('easily', 0.42201223969459534),\n",
       " ('perhaps', 0.4186874032020569)]"
      ]
     },
     "execution_count": 146,
     "metadata": {},
     "output_type": "execute_result"
    }
   ],
   "source": [
    "model1.wv.similar_by_word(\"one\")"
   ]
  },
  {
   "cell_type": "code",
   "execution_count": null,
   "id": "a3b7ae2c",
   "metadata": {},
   "outputs": [],
   "source": []
  },
  {
   "cell_type": "code",
   "execution_count": 147,
   "id": "9792e983",
   "metadata": {},
   "outputs": [],
   "source": [
    "# import tensorflow as tf\n",
    "# from tensorflow.keras.layers import Dropout\n",
    "# from tensorflow.keras.layers import Bidirectional\n",
    "# from tensorflow.keras.optimizers import Adam\n",
    "# from keras.models import Sequential"
   ]
  },
  {
   "cell_type": "code",
   "execution_count": 148,
   "id": "2a2f708c",
   "metadata": {},
   "outputs": [],
   "source": [
    "# lstm_model = Sequential()\n",
    "# lstm_model.add(Embedding(vocab_size, embedding_dim, input_length=max_length))\n",
    "# lstm_model.add(Bidirectional(LSTM(128)))\n",
    "# #model.add(LSTM(128))\n",
    "# lstm_model.add(Dense(64, activation = 'relu'))\n",
    "# lstm_model.add(Dense(1, activation = 'sigmoid'))\n",
    "\n",
    "# lstm_model.summary()\n",
    "# lstm model\n"
   ]
  },
  {
   "cell_type": "code",
   "execution_count": 149,
   "id": "eb1b6767",
   "metadata": {},
   "outputs": [],
   "source": [
    "# lstm_model.compile(loss='binary_crossentropy',optimizer='adam',metrics=['accuracy'])"
   ]
  },
  {
   "cell_type": "code",
   "execution_count": 150,
   "id": "5ad3edb2",
   "metadata": {},
   "outputs": [
    {
     "ename": "AttributeError",
     "evalue": "'Word2Vec' object has no attribute 'fit'",
     "output_type": "error",
     "traceback": [
      "\u001b[0;31m---------------------------------------------------------------------------\u001b[0m",
      "\u001b[0;31mAttributeError\u001b[0m                            Traceback (most recent call last)",
      "Cell \u001b[0;32mIn[150], line 1\u001b[0m\n\u001b[0;32m----> 1\u001b[0m history \u001b[38;5;241m=\u001b[39m \u001b[43mmodel\u001b[49m\u001b[38;5;241;43m.\u001b[39;49m\u001b[43mfit\u001b[49m(x_train, y_train, epochs\u001b[38;5;241m=\u001b[39m\u001b[38;5;241m5\u001b[39m, verbose\u001b[38;5;241m=\u001b[39m\u001b[38;5;241m1\u001b[39m,steps_per_epoch \u001b[38;5;241m=\u001b[39m \u001b[38;5;28mlen\u001b[39m(x_train)\u001b[38;5;241m/\u001b[39m\u001b[38;5;241m256\u001b[39m,batch_size \u001b[38;5;241m=\u001b[39m \u001b[38;5;241m256\u001b[39m,validation_split\u001b[38;5;241m=\u001b[39m\u001b[38;5;241m0.1\u001b[39m)\n",
      "\u001b[0;31mAttributeError\u001b[0m: 'Word2Vec' object has no attribute 'fit'"
     ]
    }
   ],
   "source": [
    "# history = model.fit(x_train, y_train, epochs=5, verbose=1,steps_per_epoch = len(x_train)/256,batch_size = 256,validation_split=0.1)"
   ]
  },
  {
   "cell_type": "code",
   "execution_count": null,
   "id": "c01e41a4",
   "metadata": {},
   "outputs": [],
   "source": [
    "# def plot_graphs(history, string):\n",
    "#     plt.plot(history.history[string])\n",
    "#     plt.plot(history.history['val_'+string])\n",
    "#     plt.xlabel(\"Epochs\")\n",
    "#     plt.ylabel(string)\n",
    "#     plt.legend([string, 'val_'+string])\n",
    "#     plt.show()\n",
    "\n",
    "# plot_graphs(history, \"accuracy\")\n",
    "# plot_graphs(history, \"loss\")"
   ]
  },
  {
   "cell_type": "code",
   "execution_count": null,
   "id": "df127255",
   "metadata": {},
   "outputs": [],
   "source": [
    "# from sklearn.metrics import accuracy_score\n",
    "# prediction = model.predict(X_test_padded)\n",
    "# # Get labels based on probability 1 if p>= 0.5 else 0\n",
    "# y_pred = []\n",
    "# for i in prediction:\n",
    "#     if i >= 0.5:\n",
    "#         y_pred.append(1)\n",
    "#     else:\n",
    "#         y_pred.append(0)\n",
    "# print(\"Accuracy of prediction on test set : \", accuracy_score(y_test,y_pred))"
   ]
  }
 ],
 "metadata": {
  "kernelspec": {
   "display_name": "Python 3",
   "language": "python",
   "name": "python3"
  },
  "language_info": {
   "codemirror_mode": {
    "name": "ipython",
    "version": 3
   },
   "file_extension": ".py",
   "mimetype": "text/x-python",
   "name": "python",
   "nbconvert_exporter": "python",
   "pygments_lexer": "ipython3",
   "version": "3.10.7"
  },
  "papermill": {
   "default_parameters": {},
   "duration": 236.876569,
   "end_time": "2023-01-17T07:02:27.077261",
   "environment_variables": {},
   "exception": null,
   "input_path": "__notebook__.ipynb",
   "output_path": "__notebook__.ipynb",
   "parameters": {},
   "start_time": "2023-01-17T06:58:30.200692",
   "version": "2.3.4"
  }
 },
 "nbformat": 4,
 "nbformat_minor": 5
}
