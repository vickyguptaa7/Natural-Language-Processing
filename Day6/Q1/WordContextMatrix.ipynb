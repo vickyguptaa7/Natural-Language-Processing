{
 "cells": [
  {
   "cell_type": "markdown",
   "metadata": {},
   "source": [
    "#### 1.Generate Word Context Matrix for a given corpus on a given window size."
   ]
  },
  {
   "cell_type": "code",
   "execution_count": 49,
   "metadata": {},
   "outputs": [
    {
     "name": "stderr",
     "output_type": "stream",
     "text": [
      "[nltk_data] Downloading package stopwords to\n",
      "[nltk_data]     /Users/vicky_gupta/nltk_data...\n",
      "[nltk_data]   Package stopwords is already up-to-date!\n",
      "[nltk_data] Downloading package wordnet to\n",
      "[nltk_data]     /Users/vicky_gupta/nltk_data...\n",
      "[nltk_data]   Package wordnet is already up-to-date!\n"
     ]
    }
   ],
   "source": [
    "import numpy as np \n",
    "import pandas as pd \n",
    "# Downloads the data.\n",
    "import nltk\n",
    "import re\n",
    "from nltk.stem import WordNetLemmatizer\n",
    "nltk.download('stopwords')\n",
    "nltk.download('wordnet')\n",
    "\n",
    "# Using the stopwords.\n",
    "from nltk.corpus import stopwords\n",
    "\n",
    "# Initialize the stopwords\n",
    "stoplist = stopwords.words('english')\n",
    "\n",
    "lemmatizer=WordNetLemmatizer()\n"
   ]
  },
  {
   "cell_type": "code",
   "execution_count": 50,
   "metadata": {},
   "outputs": [
    {
     "name": "stdout",
     "output_type": "stream",
     "text": [
      "The cat sat on the mat.\n",
      "She opened the door and let the dog in.\n",
      "Birds chirped in the trees.\n",
      "The sun set behind the mountains.\n",
      "He walked along the beach and listened to the waves.\n",
      "Children played in the park.\n",
      "She cooked dinner in the kitchen.\n",
      "The rain pattered against the window.\n",
      "The old house creaked in the wind.\n",
      "He read a book by the fireplace.\n"
     ]
    }
   ],
   "source": [
    "file=open(\"corpus.txt\",\"r\")\n",
    "corpus=file.read()\n",
    "file.close()\n",
    "print(corpus)"
   ]
  },
  {
   "cell_type": "markdown",
   "metadata": {},
   "source": [
    "#### Preprocessing"
   ]
  },
  {
   "cell_type": "code",
   "execution_count": 51,
   "metadata": {},
   "outputs": [],
   "source": [
    "def preprocessing(x):\n",
    "    # Convert to lower case\n",
    "    x=x.lower() \n",
    "    # Remove special characters\n",
    "    x=re.sub(\"[^a-zA-Z]\",\" \",x) \n",
    "    # Split the sentence into words\n",
    "    x=x.split() \n",
    "    # Lemmatize the words and remove the stopwords\n",
    "    x=[lemmatizer.lemmatize(word) for word in x if word not in stoplist]\n",
    "    return x"
   ]
  },
  {
   "cell_type": "code",
   "execution_count": 52,
   "metadata": {},
   "outputs": [],
   "source": [
    "def generate_word_context_matrix(corpus, window_size):\n",
    "    word_context_matrix = {}\n",
    "    \n",
    "    for i in range(len(corpus)):\n",
    "        word = corpus[i]\n",
    "        \n",
    "        for j in range(max(0, i - window_size), min(len(corpus), i + window_size + 1)):\n",
    "            if i != j:\n",
    "                context_word = corpus[j]\n",
    "                \n",
    "                if word not in word_context_matrix:\n",
    "                    word_context_matrix[word] = {}\n",
    "                \n",
    "                if context_word not in word_context_matrix[word]:\n",
    "                    word_context_matrix[word][context_word] = 0\n",
    "                \n",
    "                word_context_matrix[word][context_word] += 1\n",
    "    \n",
    "    return word_context_matrix\n",
    "\n",
    "\n"
   ]
  },
  {
   "cell_type": "code",
   "execution_count": 53,
   "metadata": {},
   "outputs": [
    {
     "name": "stdout",
     "output_type": "stream",
     "text": [
      "           cat  sat  mat  opened  door  let  dog  bird  chirped  tree  ...  \\\n",
      "sat        1.0  0.0  1.0     1.0   0.0  0.0  0.0   0.0      0.0   0.0  ...   \n",
      "mat        1.0  1.0  0.0     1.0   1.0  0.0  0.0   0.0      0.0   0.0  ...   \n",
      "cat        0.0  1.0  1.0     0.0   0.0  0.0  0.0   0.0      0.0   0.0  ...   \n",
      "opened     0.0  1.0  1.0     0.0   1.0  1.0  0.0   0.0      0.0   0.0  ...   \n",
      "door       0.0  0.0  1.0     1.0   0.0  1.0  1.0   0.0      0.0   0.0  ...   \n",
      "let        0.0  0.0  0.0     1.0   1.0  0.0  1.0   1.0      0.0   0.0  ...   \n",
      "dog        0.0  0.0  0.0     0.0   1.0  1.0  0.0   1.0      1.0   0.0  ...   \n",
      "bird       0.0  0.0  0.0     0.0   0.0  1.0  1.0   0.0      1.0   1.0  ...   \n",
      "chirped    0.0  0.0  0.0     0.0   0.0  0.0  1.0   1.0      0.0   1.0  ...   \n",
      "tree       0.0  0.0  0.0     0.0   0.0  0.0  0.0   1.0      1.0   0.0  ...   \n",
      "sun        0.0  0.0  0.0     0.0   0.0  0.0  0.0   0.0      1.0   1.0  ...   \n",
      "set        0.0  0.0  0.0     0.0   0.0  0.0  0.0   0.0      0.0   1.0  ...   \n",
      "behind     0.0  0.0  0.0     0.0   0.0  0.0  0.0   0.0      0.0   0.0  ...   \n",
      "mountain   0.0  0.0  0.0     0.0   0.0  0.0  0.0   0.0      0.0   0.0  ...   \n",
      "walked     0.0  0.0  0.0     0.0   0.0  0.0  0.0   0.0      0.0   0.0  ...   \n",
      "along      0.0  0.0  0.0     0.0   0.0  0.0  0.0   0.0      0.0   0.0  ...   \n",
      "beach      0.0  0.0  0.0     0.0   0.0  0.0  0.0   0.0      0.0   0.0  ...   \n",
      "listened   0.0  0.0  0.0     0.0   0.0  0.0  0.0   0.0      0.0   0.0  ...   \n",
      "wave       0.0  0.0  0.0     0.0   0.0  0.0  0.0   0.0      0.0   0.0  ...   \n",
      "child      0.0  0.0  0.0     0.0   0.0  0.0  0.0   0.0      0.0   0.0  ...   \n",
      "played     0.0  0.0  0.0     0.0   0.0  0.0  0.0   0.0      0.0   0.0  ...   \n",
      "park       0.0  0.0  0.0     0.0   0.0  0.0  0.0   0.0      0.0   0.0  ...   \n",
      "cooked     0.0  0.0  0.0     0.0   0.0  0.0  0.0   0.0      0.0   0.0  ...   \n",
      "dinner     0.0  0.0  0.0     0.0   0.0  0.0  0.0   0.0      0.0   0.0  ...   \n",
      "kitchen    0.0  0.0  0.0     0.0   0.0  0.0  0.0   0.0      0.0   0.0  ...   \n",
      "rain       0.0  0.0  0.0     0.0   0.0  0.0  0.0   0.0      0.0   0.0  ...   \n",
      "pattered   0.0  0.0  0.0     0.0   0.0  0.0  0.0   0.0      0.0   0.0  ...   \n",
      "window     0.0  0.0  0.0     0.0   0.0  0.0  0.0   0.0      0.0   0.0  ...   \n",
      "old        0.0  0.0  0.0     0.0   0.0  0.0  0.0   0.0      0.0   0.0  ...   \n",
      "house      0.0  0.0  0.0     0.0   0.0  0.0  0.0   0.0      0.0   0.0  ...   \n",
      "creaked    0.0  0.0  0.0     0.0   0.0  0.0  0.0   0.0      0.0   0.0  ...   \n",
      "wind       0.0  0.0  0.0     0.0   0.0  0.0  0.0   0.0      0.0   0.0  ...   \n",
      "read       0.0  0.0  0.0     0.0   0.0  0.0  0.0   0.0      0.0   0.0  ...   \n",
      "book       0.0  0.0  0.0     0.0   0.0  0.0  0.0   0.0      0.0   0.0  ...   \n",
      "fireplace  0.0  0.0  0.0     0.0   0.0  0.0  0.0   0.0      0.0   0.0  ...   \n",
      "\n",
      "           rain  pattered  window  old  house  creaked  wind  read  book  \\\n",
      "sat         0.0       0.0     0.0  0.0    0.0      0.0   0.0   0.0   0.0   \n",
      "mat         0.0       0.0     0.0  0.0    0.0      0.0   0.0   0.0   0.0   \n",
      "cat         0.0       0.0     0.0  0.0    0.0      0.0   0.0   0.0   0.0   \n",
      "opened      0.0       0.0     0.0  0.0    0.0      0.0   0.0   0.0   0.0   \n",
      "door        0.0       0.0     0.0  0.0    0.0      0.0   0.0   0.0   0.0   \n",
      "let         0.0       0.0     0.0  0.0    0.0      0.0   0.0   0.0   0.0   \n",
      "dog         0.0       0.0     0.0  0.0    0.0      0.0   0.0   0.0   0.0   \n",
      "bird        0.0       0.0     0.0  0.0    0.0      0.0   0.0   0.0   0.0   \n",
      "chirped     0.0       0.0     0.0  0.0    0.0      0.0   0.0   0.0   0.0   \n",
      "tree        0.0       0.0     0.0  0.0    0.0      0.0   0.0   0.0   0.0   \n",
      "sun         0.0       0.0     0.0  0.0    0.0      0.0   0.0   0.0   0.0   \n",
      "set         0.0       0.0     0.0  0.0    0.0      0.0   0.0   0.0   0.0   \n",
      "behind      0.0       0.0     0.0  0.0    0.0      0.0   0.0   0.0   0.0   \n",
      "mountain    0.0       0.0     0.0  0.0    0.0      0.0   0.0   0.0   0.0   \n",
      "walked      0.0       0.0     0.0  0.0    0.0      0.0   0.0   0.0   0.0   \n",
      "along       0.0       0.0     0.0  0.0    0.0      0.0   0.0   0.0   0.0   \n",
      "beach       0.0       0.0     0.0  0.0    0.0      0.0   0.0   0.0   0.0   \n",
      "listened    0.0       0.0     0.0  0.0    0.0      0.0   0.0   0.0   0.0   \n",
      "wave        0.0       0.0     0.0  0.0    0.0      0.0   0.0   0.0   0.0   \n",
      "child       0.0       0.0     0.0  0.0    0.0      0.0   0.0   0.0   0.0   \n",
      "played      0.0       0.0     0.0  0.0    0.0      0.0   0.0   0.0   0.0   \n",
      "park        0.0       0.0     0.0  0.0    0.0      0.0   0.0   0.0   0.0   \n",
      "cooked      0.0       0.0     0.0  0.0    0.0      0.0   0.0   0.0   0.0   \n",
      "dinner      1.0       0.0     0.0  0.0    0.0      0.0   0.0   0.0   0.0   \n",
      "kitchen     1.0       1.0     0.0  0.0    0.0      0.0   0.0   0.0   0.0   \n",
      "rain        0.0       1.0     1.0  0.0    0.0      0.0   0.0   0.0   0.0   \n",
      "pattered    1.0       0.0     1.0  1.0    0.0      0.0   0.0   0.0   0.0   \n",
      "window      1.0       1.0     0.0  1.0    1.0      0.0   0.0   0.0   0.0   \n",
      "old         0.0       1.0     1.0  0.0    1.0      1.0   0.0   0.0   0.0   \n",
      "house       0.0       0.0     1.0  1.0    0.0      1.0   1.0   0.0   0.0   \n",
      "creaked     0.0       0.0     0.0  1.0    1.0      0.0   1.0   1.0   0.0   \n",
      "wind        0.0       0.0     0.0  0.0    1.0      1.0   0.0   1.0   1.0   \n",
      "read        0.0       0.0     0.0  0.0    0.0      1.0   1.0   0.0   1.0   \n",
      "book        0.0       0.0     0.0  0.0    0.0      0.0   1.0   1.0   0.0   \n",
      "fireplace   0.0       0.0     0.0  0.0    0.0      0.0   0.0   1.0   1.0   \n",
      "\n",
      "           fireplace  \n",
      "sat              0.0  \n",
      "mat              0.0  \n",
      "cat              0.0  \n",
      "opened           0.0  \n",
      "door             0.0  \n",
      "let              0.0  \n",
      "dog              0.0  \n",
      "bird             0.0  \n",
      "chirped          0.0  \n",
      "tree             0.0  \n",
      "sun              0.0  \n",
      "set              0.0  \n",
      "behind           0.0  \n",
      "mountain         0.0  \n",
      "walked           0.0  \n",
      "along            0.0  \n",
      "beach            0.0  \n",
      "listened         0.0  \n",
      "wave             0.0  \n",
      "child            0.0  \n",
      "played           0.0  \n",
      "park             0.0  \n",
      "cooked           0.0  \n",
      "dinner           0.0  \n",
      "kitchen          0.0  \n",
      "rain             0.0  \n",
      "pattered         0.0  \n",
      "window           0.0  \n",
      "old              0.0  \n",
      "house            0.0  \n",
      "creaked          0.0  \n",
      "wind             0.0  \n",
      "read             1.0  \n",
      "book             1.0  \n",
      "fireplace        0.0  \n",
      "\n",
      "[35 rows x 35 columns]\n"
     ]
    }
   ],
   "source": [
    "corpus=preprocessing(corpus)\n",
    "word_context_matrix=generate_word_context_matrix(corpus, 2)\n",
    "\n",
    "# Convert the word context matrix to a DataFrame\n",
    "df = pd.DataFrame(word_context_matrix)\n",
    "\n",
    "# Fill NaN values with 0\n",
    "df = df.fillna(0)\n",
    "\n",
    "print(df)"
   ]
  },
  {
   "cell_type": "markdown",
   "metadata": {},
   "source": [
    "#### 2.Find similarity between two words using word context matrix."
   ]
  },
  {
   "cell_type": "code",
   "execution_count": 54,
   "metadata": {},
   "outputs": [],
   "source": [
    "def cosine_similarity(word1, word2, word_context_matrix):\n",
    "    if word1 not in word_context_matrix or word2 not in word_context_matrix:\n",
    "        return 0.0\n",
    "    \n",
    "    vector1 = np.array(list(word_context_matrix[word1].values))\n",
    "    vector2 = np.array(list(word_context_matrix[word2].values))\n",
    "    \n",
    "    dot_product = np.dot(vector1, vector2)\n",
    "    norm_product = np.linalg.norm(vector1) * np.linalg.norm(vector2)\n",
    "    \n",
    "    similarity = dot_product / norm_product\n",
    "    return similarity\n"
   ]
  },
  {
   "cell_type": "code",
   "execution_count": 55,
   "metadata": {},
   "outputs": [
    {
     "name": "stdout",
     "output_type": "stream",
     "text": [
      "0.35355339059327373\n"
     ]
    }
   ],
   "source": [
    "print(cosine_similarity(\"cat\", \"mat\", df))"
   ]
  }
 ],
 "metadata": {
  "kernelspec": {
   "display_name": "Python 3",
   "language": "python",
   "name": "python3"
  },
  "language_info": {
   "codemirror_mode": {
    "name": "ipython",
    "version": 3
   },
   "file_extension": ".py",
   "mimetype": "text/x-python",
   "name": "python",
   "nbconvert_exporter": "python",
   "pygments_lexer": "ipython3",
   "version": "3.10.7"
  }
 },
 "nbformat": 4,
 "nbformat_minor": 2
}
