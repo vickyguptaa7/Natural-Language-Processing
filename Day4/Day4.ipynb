{
 "cells": [
  {
   "cell_type": "markdown",
   "metadata": {},
   "source": [
    "### Question - Maximum Matching Segregation Algorithm For Text\n",
    "\n",
    "Eg - thecatinhat => the cat in hat"
   ]
  },
  {
   "cell_type": "code",
   "execution_count": 261,
   "metadata": {},
   "outputs": [
    {
     "name": "stderr",
     "output_type": "stream",
     "text": [
      "[nltk_data] Downloading package words to\n",
      "[nltk_data]     /Users/vicky_gupta/nltk_data...\n",
      "[nltk_data]   Package words is already up-to-date!\n"
     ]
    },
    {
     "data": {
      "text/plain": [
       "True"
      ]
     },
     "execution_count": 261,
     "metadata": {},
     "output_type": "execute_result"
    }
   ],
   "source": [
    "import nltk\n",
    "from nltk.corpus import words \n",
    "nltk.download('words')"
   ]
  },
  {
   "cell_type": "code",
   "execution_count": 262,
   "metadata": {},
   "outputs": [],
   "source": [
    "sentence=\"I am a student of computer science and engineering. I am a very good student.\"\n",
    "# sentence=\"hadhave\""
   ]
  },
  {
   "cell_type": "markdown",
   "metadata": {},
   "source": [
    "#### Preprocessing "
   ]
  },
  {
   "cell_type": "code",
   "execution_count": 263,
   "metadata": {},
   "outputs": [],
   "source": [
    "sentence=sentence.lower();\n",
    "sentence=sentence.replace(\",\",\"\");\n",
    "sentence=sentence.replace(\".\",\"\");\n",
    "sentence=sentence.replace(\" \",\"\");"
   ]
  },
  {
   "cell_type": "markdown",
   "metadata": {},
   "source": [
    "#### Helpers Function"
   ]
  },
  {
   "cell_type": "markdown",
   "metadata": {},
   "source": []
  },
  {
   "cell_type": "code",
   "execution_count": 264,
   "metadata": {},
   "outputs": [
    {
     "name": "stdout",
     "output_type": "stream",
     "text": [
      "['i', 'ama', 'student', 'of', 'computer', 'science', 'and', 'engineering', 'i', 'ama', 'very', 'goods', 'tu', 'dent']\n"
     ]
    }
   ],
   "source": [
    "possible_words=[]\n",
    "answer_of_words=[]\n",
    "words_set=set(words.words());\n",
    "def maximumMatchingSegregationAlgorithm(indx,text):\n",
    "    if(indx>=len(text)):\n",
    "        answer_of_words.clear();\n",
    "        for i in range(len(possible_words)):\n",
    "            answer_of_words.append(possible_words[i]);\n",
    "        # print(possible_words)\n",
    "        return True\n",
    "    for i in range(indx,len(text)):\n",
    "        word=text[indx:len(text)-(i-indx)];\n",
    "        if(word in words_set):\n",
    "            possible_words.append(word);\n",
    "            if(maximumMatchingSegregationAlgorithm(len(text)-(i-indx),text)):\n",
    "                return True\n",
    "            possible_words.pop();\n",
    "    \n",
    "\n",
    "maximumMatchingSegregationAlgorithm(0,sentence);\n",
    "print(possible_words);\n"
   ]
  }
 ],
 "metadata": {
  "kernelspec": {
   "display_name": "Python 3",
   "language": "python",
   "name": "python3"
  },
  "language_info": {
   "codemirror_mode": {
    "name": "ipython",
    "version": 3
   },
   "file_extension": ".py",
   "mimetype": "text/x-python",
   "name": "python",
   "nbconvert_exporter": "python",
   "pygments_lexer": "ipython3",
   "version": "3.10.7"
  }
 },
 "nbformat": 4,
 "nbformat_minor": 2
}
